{
 "cells": [
  {
   "cell_type": "markdown",
   "id": "3810fbf1-d7ab-4a95-befa-6e6ab8529826",
   "metadata": {},
   "source": [
    "Ex1: Separate model and simulator"
   ]
  },
  {
   "cell_type": "markdown",
   "id": "417bfa4a",
   "metadata": {},
   "source": [
    "![Alt text](image-5.png)"
   ]
  },
  {
   "attachments": {},
   "cell_type": "markdown",
   "id": "f12351e2-9f8b-41be-aa3f-c79c1872948c",
   "metadata": {},
   "source": [
    "Ex 2: Neuron as a DTSS"
   ]
  },
  {
   "cell_type": "markdown",
   "id": "f8418024",
   "metadata": {},
   "source": [
    "![Alt text](image-3.png)"
   ]
  },
  {
   "cell_type": "code",
   "execution_count": 2,
   "id": "ed21a4aa-2161-4e1c-ad5a-0a49bda62f46",
   "metadata": {},
   "outputs": [
    {
     "name": "stdout",
     "output_type": "stream",
     "text": [
      "t= 0 -75 0\n",
      "t= 0.5 -70 0\n",
      "t= 1.0 -65 0\n"
     ]
    },
    {
     "ename": "UnboundLocalError",
     "evalue": "cannot access local variable 'V_membrane' where it is not associated with a value",
     "output_type": "error",
     "traceback": [
      "\u001b[1;31m---------------------------------------------------------------------------\u001b[0m",
      "\u001b[1;31mUnboundLocalError\u001b[0m                         Traceback (most recent call last)",
      "\u001b[1;32mc:\\Users\\matta\\Lecture2_solutions.ipynb Cell 5\u001b[0m line \u001b[0;36m4\n\u001b[0;32m     <a href='vscode-notebook-cell:/c%3A/Users/matta/Lecture2_solutions.ipynb#W4sZmlsZQ%3D%3D?line=39'>40</a>\u001b[0m \u001b[39m# Standard boilerplate to call the main() function to begin\u001b[39;00m\n\u001b[0;32m     <a href='vscode-notebook-cell:/c%3A/Users/matta/Lecture2_solutions.ipynb#W4sZmlsZQ%3D%3D?line=40'>41</a>\u001b[0m \u001b[39m# the program.\u001b[39;00m\n\u001b[0;32m     <a href='vscode-notebook-cell:/c%3A/Users/matta/Lecture2_solutions.ipynb#W4sZmlsZQ%3D%3D?line=41'>42</a>\u001b[0m \u001b[39mif\u001b[39;00m \u001b[39m__name__\u001b[39m \u001b[39m==\u001b[39m \u001b[39m'\u001b[39m\u001b[39m__main__\u001b[39m\u001b[39m'\u001b[39m:\n\u001b[1;32m---> <a href='vscode-notebook-cell:/c%3A/Users/matta/Lecture2_solutions.ipynb#W4sZmlsZQ%3D%3D?line=42'>43</a>\u001b[0m   main()\n",
      "\u001b[1;32mc:\\Users\\matta\\Lecture2_solutions.ipynb Cell 5\u001b[0m line \u001b[0;36m3\n\u001b[0;32m     <a href='vscode-notebook-cell:/c%3A/Users/matta/Lecture2_solutions.ipynb#W4sZmlsZQ%3D%3D?line=36'>37</a>\u001b[0m t_end \u001b[39m=\u001b[39m \u001b[39m3.5\u001b[39m\n\u001b[0;32m     <a href='vscode-notebook-cell:/c%3A/Users/matta/Lecture2_solutions.ipynb#W4sZmlsZQ%3D%3D?line=37'>38</a>\u001b[0m c \u001b[39m=\u001b[39m \u001b[39m0.5\u001b[39m\n\u001b[1;32m---> <a href='vscode-notebook-cell:/c%3A/Users/matta/Lecture2_solutions.ipynb#W4sZmlsZQ%3D%3D?line=38'>39</a>\u001b[0m simulate(inputSpikeList,t_end,c)\n",
      "\u001b[1;32mc:\\Users\\matta\\Lecture2_solutions.ipynb Cell 5\u001b[0m line \u001b[0;36m2\n\u001b[0;32m     <a href='vscode-notebook-cell:/c%3A/Users/matta/Lecture2_solutions.ipynb#W4sZmlsZQ%3D%3D?line=21'>22</a>\u001b[0m \u001b[39mglobal\u001b[39;00m V_membrane\n\u001b[0;32m     <a href='vscode-notebook-cell:/c%3A/Users/matta/Lecture2_solutions.ipynb#W4sZmlsZQ%3D%3D?line=22'>23</a>\u001b[0m \u001b[39mwhile\u001b[39;00m(t \u001b[39m<\u001b[39m t_end):\n\u001b[1;32m---> <a href='vscode-notebook-cell:/c%3A/Users/matta/Lecture2_solutions.ipynb#W4sZmlsZQ%3D%3D?line=23'>24</a>\u001b[0m     output_neuron \u001b[39m=\u001b[39m lambda_dtss(V_membrane)\n\u001b[0;32m     <a href='vscode-notebook-cell:/c%3A/Users/matta/Lecture2_solutions.ipynb#W4sZmlsZQ%3D%3D?line=25'>26</a>\u001b[0m     V_membrane \u001b[39m=\u001b[39m delta(inputSpikeList[n],V_membrane)\n\u001b[0;32m     <a href='vscode-notebook-cell:/c%3A/Users/matta/Lecture2_solutions.ipynb#W4sZmlsZQ%3D%3D?line=26'>27</a>\u001b[0m     \u001b[39m#print(\"V_membrane=\",V_membrane)\u001b[39;00m\n",
      "\u001b[1;32mc:\\Users\\matta\\Lecture2_solutions.ipynb Cell 5\u001b[0m line \u001b[0;36m1\n\u001b[0;32m      <a href='vscode-notebook-cell:/c%3A/Users/matta/Lecture2_solutions.ipynb#W4sZmlsZQ%3D%3D?line=8'>9</a>\u001b[0m \u001b[39mdef\u001b[39;00m \u001b[39mlambda_dtss\u001b[39m(V_mem):\n\u001b[0;32m     <a href='vscode-notebook-cell:/c%3A/Users/matta/Lecture2_solutions.ipynb#W4sZmlsZQ%3D%3D?line=10'>11</a>\u001b[0m     \u001b[39mif\u001b[39;00m(V_mem \u001b[39m>\u001b[39m\u001b[39m=\u001b[39m V_threshold):\n\u001b[1;32m---> <a href='vscode-notebook-cell:/c%3A/Users/matta/Lecture2_solutions.ipynb#W4sZmlsZQ%3D%3D?line=11'>12</a>\u001b[0m         \u001b[39mprint\u001b[39m(V_membrane)\n\u001b[0;32m     <a href='vscode-notebook-cell:/c%3A/Users/matta/Lecture2_solutions.ipynb#W4sZmlsZQ%3D%3D?line=12'>13</a>\u001b[0m         V_membrane \u001b[39m=\u001b[39m V_rest\n\u001b[0;32m     <a href='vscode-notebook-cell:/c%3A/Users/matta/Lecture2_solutions.ipynb#W4sZmlsZQ%3D%3D?line=13'>14</a>\u001b[0m         \u001b[39mreturn\u001b[39;00m(\u001b[39m5\u001b[39m)\n",
      "\u001b[1;31mUnboundLocalError\u001b[0m: cannot access local variable 'V_membrane' where it is not associated with a value"
     ]
    }
   ],
   "source": [
    "V_threshold = -65\n",
    "V_membrane = -75\n",
    "V_rest = -75\n",
    "\n",
    "def delta(input, V_mem):\n",
    "    V_mem = V_mem + input\n",
    "    return(V_mem)\n",
    "\n",
    "def lambda_dtss(V_mem):\n",
    "    \n",
    "    if(V_mem >= V_threshold):\n",
    "        global V_membrane\n",
    "        V_membrane = V_rest\n",
    "        return(5)\n",
    "    else:\n",
    "        return(0)\n",
    "\n",
    "## Define a function to simulate neuron behaviour\n",
    "def simulate(inputSpikeList,t_end,c):\n",
    "    t=0\n",
    "    n=0\n",
    "    global V_membrane\n",
    "    while(t < t_end):\n",
    "        output_neuron = lambda_dtss(V_membrane)\n",
    "        \n",
    "        V_membrane = delta(inputSpikeList[n],V_membrane)\n",
    "        #print(\"V_membrane=\",V_membrane)\n",
    "        print(\"t=\",t,V_membrane,output_neuron)\n",
    "        \n",
    "        n=n+1\n",
    "        t=n*c\n",
    "        #print(\"n=\",n,\"t=\",t)\n",
    "    return(V_membrane)    \n",
    "\n",
    "def main():\n",
    "    inputSpikeList = [0,5,5,0,0,0,0,5]\n",
    "    t_end = 3.5\n",
    "    c = 0.5\n",
    "    simulate(inputSpikeList,t_end,c)\n",
    "# Standard boilerplate to call the main() function to begin\n",
    "# the program.\n",
    "if __name__ == '__main__':\n",
    "  main()"
   ]
  },
  {
   "cell_type": "markdown",
   "id": "db4f0c42-56b8-46bb-a400-23aef7bd4e29",
   "metadata": {},
   "source": [
    "Ex 3: Neuron as DTSS with For loop"
   ]
  },
  {
   "cell_type": "markdown",
   "id": "fee8cf7d",
   "metadata": {},
   "source": [
    "![Alt text](image-6.png)"
   ]
  },
  {
   "cell_type": "code",
   "execution_count": 34,
   "id": "d990715f-6780-4523-80fe-ff2d72ec9e2b",
   "metadata": {},
   "outputs": [
    {
     "name": "stdout",
     "output_type": "stream",
     "text": [
      "t= 0 -75 0\n",
      "t= 0.5 -70 0\n",
      "t= 1.0 -65 0\n",
      "t= 1.5 -75 5\n",
      "t= 2.0 -75 0\n",
      "t= 2.5 -75 0\n",
      "t= 3.0 -75 0\n",
      "t= 3.5 -70 0\n"
     ]
    }
   ],
   "source": [
    "V_threshold = -65\n",
    "V_membrane = -75\n",
    "V_rest = -75\n",
    "\n",
    "def delta(input, V_mem):\n",
    "    V_mem = V_mem + input\n",
    "    return(V_mem)\n",
    "\n",
    "def lambda_dtss(V_mem):\n",
    "    \n",
    "    if(V_mem >= V_threshold):\n",
    "        global V_membrane\n",
    "        V_membrane = V_rest\n",
    "        return(5)\n",
    "    else:\n",
    "        return(0)\n",
    "\n",
    "## Define a function to simulate neuron behaviour\n",
    "def simulate(inputSpikeList,t_end,c):\n",
    "    t=0\n",
    "    n=0\n",
    "    global V_membrane\n",
    "    for n in range(int(t_end/c)+1):\n",
    "        output_neuron = lambda_dtss(V_membrane)\n",
    "        V_membrane = delta(inputSpikeList[n],V_membrane)\n",
    "        #print(\"V_membrane=\",V_membrane)\n",
    "        \n",
    "        print(\"t=\",t,V_membrane,output_neuron)\n",
    "        n=n+1\n",
    "        t=n*c\n",
    "        #print(\"n=\",n,\"t=\",t)\n",
    "    return(V_membrane)    \n",
    "\n",
    "def main():\n",
    "    inputSpikeList = [0,5,5,0,0,0,0,5]\n",
    "    t_end = 3.5\n",
    "    c = 0.5\n",
    "    simulate(inputSpikeList,t_end,c)\n",
    "# Standard boilerplate to call the main() function to begin\n",
    "# the program.\n",
    "if __name__ == '__main__':\n",
    "  main()"
   ]
  },
  {
   "cell_type": "markdown",
   "id": "2cba3aa4-0cb7-4896-b6da-ea19911cf967",
   "metadata": {},
   "source": [
    "Ex 4: Neuron using euler method"
   ]
  },
  {
   "cell_type": "markdown",
   "id": "4d945eba",
   "metadata": {},
   "source": [
    "![Alt text](image-1.png)"
   ]
  },
  {
   "cell_type": "code",
   "execution_count": 35,
   "id": "67668ec1-c277-4af9-8cc1-2ad5e456c331",
   "metadata": {},
   "outputs": [
    {
     "name": "stdout",
     "output_type": "stream",
     "text": [
      "t= 0 -75.0 0\n",
      "t= 0.5 -50.0 0\n",
      "t= 1.0 -50.0 5\n",
      "t= 1.5 -75.0 5\n",
      "t= 2.0 -75.0 0\n",
      "t= 2.5 -75.0 0\n",
      "t= 3.0 -75.0 0\n"
     ]
    }
   ],
   "source": [
    "V_threshold = -65\n",
    "V_membrane = -75\n",
    "V_rest = -75\n",
    "R_m = 5\n",
    "tau_m = 0.5\n",
    "\n",
    "def delta(input, V_mem, dt):\n",
    "    V_mem = V_mem + dt*(V_rest - V_mem+ (R_m*input))/tau_m\n",
    "    return(V_mem)\n",
    "\n",
    "def lambda_dtss(V_mem):\n",
    "    \n",
    "    if(V_mem >= V_threshold):\n",
    "        global V_membrane\n",
    "        V_membrane = V_rest\n",
    "        return(5)\n",
    "    else:\n",
    "        return(0)\n",
    "\n",
    "## Define a function to simulate neuron behaviour\n",
    "def simulate(inputSpikeList,t_end,c):\n",
    "    t=0\n",
    "    n=0\n",
    "    global V_membrane\n",
    "    for n in range(int(t_end/c)):\n",
    "        output_neuron = lambda_dtss(V_membrane)\n",
    "        V_membrane = delta(inputSpikeList[n],V_membrane,c)\n",
    "        #print(\"V_membrane=\",V_membrane)\n",
    "        print(\"t=\",t,V_membrane,output_neuron)\n",
    "        n=n+1\n",
    "        t=n*c\n",
    "        #print(\"n=\",n,\"t=\",t)\n",
    "    return(V_membrane)    \n",
    "\n",
    "def main():\n",
    "    inputSpikeList = [0,5,5,0,0,0,0,5]\n",
    "    t_end = 3.5\n",
    "    c = 0.5\n",
    "    simulate(inputSpikeList,t_end,c)\n",
    "# Standard boilerplate to call the main() function to begin\n",
    "# the program.\n",
    "if __name__ == '__main__':\n",
    "  main()"
   ]
  },
  {
   "cell_type": "markdown",
   "id": "4c1123d2-e3b7-4ed5-aa9d-1811173f1f70",
   "metadata": {},
   "source": [
    "Ex 5:  Network of two interacting neurons as functions"
   ]
  },
  {
   "cell_type": "markdown",
   "id": "d1e88210",
   "metadata": {},
   "source": [
    "![Alt text](image.png)"
   ]
  }
 ],
 "metadata": {
  "kernelspec": {
   "display_name": "Python 3 (ipykernel)",
   "language": "python",
   "name": "python3"
  },
  "language_info": {
   "codemirror_mode": {
    "name": "ipython",
    "version": 3
   },
   "file_extension": ".py",
   "mimetype": "text/x-python",
   "name": "python",
   "nbconvert_exporter": "python",
   "pygments_lexer": "ipython3",
   "version": "3.11.4"
  }
 },
 "nbformat": 4,
 "nbformat_minor": 5
}
