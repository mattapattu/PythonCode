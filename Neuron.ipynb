import numpy as np
import matplotlib.pyplot as plt 


I=np.full([1000,1],200,dtype=float) 
#I[10:100]=10                      #Set the parameter I.

dt=0.1                      #Set the timestep.
# typical neuron parameters#
V_th = -65.     # spike threshold [mV]
V_reset = -75.  # reset potential [mV]
tau_m = 5.     # membrane time constant [ms]
g_L = 10.       # leak conductance [nS]
V_init = -75.   # initial potential [mV]
E_L = -75.      # leak reversal potential [mV]

V = np.full([1000,1],V_reset,dtype=float)          #Initialize V.
V[0]=V_init;                    #Set the initial condition.


for k in range(999):       #March forward in time,
    dv = (-(V[k] - E_L) + I[k] / g_L) * (dt / tau_m)
            
    V[k+1] = V[k] + dv #Update the voltage,
    
    if V[k+1] > V_th:         #... and check if the voltage exceeds the threshold.
        V[k+1] = V_reset
        #print(V[k+1],I[k],dv) 
       


t = np.arange(0,len(V))*dt      #Define the time axis.
#print(V)
plt.figure()                     #Plot the results.
plt.plot(t,V)
plt.xlabel('Time [s]')
plt.ylabel('Voltage [mV]');
